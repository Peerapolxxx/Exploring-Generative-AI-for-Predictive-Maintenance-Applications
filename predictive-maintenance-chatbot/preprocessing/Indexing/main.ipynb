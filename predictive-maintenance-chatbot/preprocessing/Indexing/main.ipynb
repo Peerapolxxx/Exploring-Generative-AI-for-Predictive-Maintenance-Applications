{
 "cells": [
  {
   "cell_type": "code",
   "execution_count": 1,
   "metadata": {},
   "outputs": [],
   "source": [
    "%load_ext autoreload\n",
    "%autoreload 2"
   ]
  },
  {
   "cell_type": "code",
   "execution_count": 2,
   "metadata": {},
   "outputs": [],
   "source": [
    "import os\n",
    "from Indexing_function.Indexing_data import create_indexingData\n",
    "from Indexing_function.faiss_index import create_FaissIndexing\n",
    "from Indexing_function.bm25_index import create_BM25Indexing"
   ]
  },
  {
   "cell_type": "code",
   "execution_count": 3,
   "metadata": {},
   "outputs": [],
   "source": [
    "# กำหนด root directory หลักของโปรเจค\n",
    "ROOT_DIRECTORY = \"D:\\Data_sci_internship\\Exploring Generative AI for Predictive Maintenance Applications\"\n",
    "\n",
    "# กำหนดชื่อโฟลเดอร์ย่อยต่างๆ\n",
    "PROJECT_DIRECTORY = \"predictive-maintenance-chatbot\"    # โฟลเดอร์โปรเจค\n",
    "DATA_ROOT_DIRECTORY = \"data\"                            # โฟลเดอร์หลักสำหรับเก็บข้อมูล\n",
    "PREPARED_DATA_DIRECTORY = \"prepared_data\"               # โฟลเดอร์สำหรับข้อมูลที่ประมวลผลแล้ว\n",
    "\n",
    "BUILDING_ROOT_DIRECTORY = \"building-knowledge-base\"\n",
    "BUILD_NAME_DIRECTOR = \"build_1\"\n",
    "\n",
    "# สร้าง path เต็มสำหรับโฟลเดอร์ข้อมูลที่ประมวลผลแล้ว\n",
    "prepared_data_dir = os.path.join(\n",
    "    ROOT_DIRECTORY, PROJECT_DIRECTORY, DATA_ROOT_DIRECTORY, PREPARED_DATA_DIRECTORY\n",
    ")\n",
    "\n",
    "buildingBase_data_dir = os.path.join(\n",
    "    ROOT_DIRECTORY, PROJECT_DIRECTORY, DATA_ROOT_DIRECTORY, BUILDING_ROOT_DIRECTORY, BUILD_NAME_DIRECTOR\n",
    ")"
   ]
  },
  {
   "cell_type": "code",
   "execution_count": 4,
   "metadata": {},
   "outputs": [
    {
     "name": "stdout",
     "output_type": "stream",
     "text": [
      "Save the Merged data JSON Complete ✔️ - Path: D:\\Data_sci_internship\\Exploring Generative AI for Predictive Maintenance Applications\\predictive-maintenance-chatbot\\data\\building-knowledge-base\\build_1\\merged.json\n",
      "Save the Index data JSON Complete ✔️ - Path: D:\\Data_sci_internship\\Exploring Generative AI for Predictive Maintenance Applications\\predictive-maintenance-chatbot\\data\\building-knowledge-base\\build_1\\index_data.json\n"
     ]
    }
   ],
   "source": [
    "# เลือกไฟส์ข้อมูลเพื่อนำไปสร้าง Indexing ที่ต้องการใน prepared_data \n",
    "input_files = [\n",
    "    # \"PLANT_01_COMP_SG01_chunks_contextualized.json\",\n",
    "    # \"PLANT_02_GEN_DF_01_chunks_contextualized.json\",\n",
    "    # \"PLANT_02_GEN_DF_02_chunks_contextualized.json\",\n",
    "    # \"PLANT_02_PMP_WI_01_chunks_contextualized.json\",\n",
    "    # \"PLANT_02_PMP_WI_02_chunks_contextualized.json\",\n",
    "    \"PLANT_02_PMP_WI_03_chunks_contextualized.json\",\n",
    "    \"PLANT_02_SYS_WP_01_chunks_contextualized.json\",\n",
    "    ]\n",
    "\n",
    "# Call the pipeline_numeric2text function\n",
    "index_data = create_indexingData(prepared_data_dir, input_files, buildingBase_data_dir)"
   ]
  },
  {
   "cell_type": "code",
   "execution_count": 5,
   "metadata": {},
   "outputs": [
    {
     "data": {
      "application/vnd.jupyter.widget-view+json": {
       "model_id": "9746a49395db48959e1559920220f362",
       "version_major": 2,
       "version_minor": 0
      },
      "text/plain": [
       "modules.json:   0%|          | 0.00/349 [00:00<?, ?B/s]"
      ]
     },
     "metadata": {},
     "output_type": "display_data"
    },
    {
     "data": {
      "application/vnd.jupyter.widget-view+json": {
       "model_id": "d080139fac1b4c9aac48d3cb8c70ce80",
       "version_major": 2,
       "version_minor": 0
      },
      "text/plain": [
       "config_sentence_transformers.json:   0%|          | 0.00/116 [00:00<?, ?B/s]"
      ]
     },
     "metadata": {},
     "output_type": "display_data"
    },
    {
     "data": {
      "application/vnd.jupyter.widget-view+json": {
       "model_id": "5c905e9fad46473d90832bf0518b1a90",
       "version_major": 2,
       "version_minor": 0
      },
      "text/plain": [
       "README.md:   0%|          | 0.00/10.6k [00:00<?, ?B/s]"
      ]
     },
     "metadata": {},
     "output_type": "display_data"
    },
    {
     "data": {
      "application/vnd.jupyter.widget-view+json": {
       "model_id": "a3b14194fe6d43aba840018dc39b6b2e",
       "version_major": 2,
       "version_minor": 0
      },
      "text/plain": [
       "sentence_bert_config.json:   0%|          | 0.00/53.0 [00:00<?, ?B/s]"
      ]
     },
     "metadata": {},
     "output_type": "display_data"
    },
    {
     "data": {
      "application/vnd.jupyter.widget-view+json": {
       "model_id": "9c6183996eac4a92861b2f2131178339",
       "version_major": 2,
       "version_minor": 0
      },
      "text/plain": [
       "config.json:   0%|          | 0.00/571 [00:00<?, ?B/s]"
      ]
     },
     "metadata": {},
     "output_type": "display_data"
    },
    {
     "data": {
      "application/vnd.jupyter.widget-view+json": {
       "model_id": "44730dcdf9d64c82824d57e805354b18",
       "version_major": 2,
       "version_minor": 0
      },
      "text/plain": [
       "model.safetensors:   0%|          | 0.00/438M [00:00<?, ?B/s]"
      ]
     },
     "metadata": {},
     "output_type": "display_data"
    },
    {
     "data": {
      "application/vnd.jupyter.widget-view+json": {
       "model_id": "e549be2f55ff4b7cbe6722f4ca736083",
       "version_major": 2,
       "version_minor": 0
      },
      "text/plain": [
       "tokenizer_config.json:   0%|          | 0.00/363 [00:00<?, ?B/s]"
      ]
     },
     "metadata": {},
     "output_type": "display_data"
    },
    {
     "data": {
      "application/vnd.jupyter.widget-view+json": {
       "model_id": "67a5fb6044bf4c9abe007be750d29ade",
       "version_major": 2,
       "version_minor": 0
      },
      "text/plain": [
       "vocab.txt:   0%|          | 0.00/232k [00:00<?, ?B/s]"
      ]
     },
     "metadata": {},
     "output_type": "display_data"
    },
    {
     "data": {
      "application/vnd.jupyter.widget-view+json": {
       "model_id": "f91f989e16f447d38febc280ecbc05aa",
       "version_major": 2,
       "version_minor": 0
      },
      "text/plain": [
       "tokenizer.json:   0%|          | 0.00/466k [00:00<?, ?B/s]"
      ]
     },
     "metadata": {},
     "output_type": "display_data"
    },
    {
     "data": {
      "application/vnd.jupyter.widget-view+json": {
       "model_id": "740291c38f73451e8b41bc2934f8d097",
       "version_major": 2,
       "version_minor": 0
      },
      "text/plain": [
       "special_tokens_map.json:   0%|          | 0.00/239 [00:00<?, ?B/s]"
      ]
     },
     "metadata": {},
     "output_type": "display_data"
    },
    {
     "data": {
      "application/vnd.jupyter.widget-view+json": {
       "model_id": "279e7c98cbd34814acbc79152905c616",
       "version_major": 2,
       "version_minor": 0
      },
      "text/plain": [
       "1_Pooling/config.json:   0%|          | 0.00/190 [00:00<?, ?B/s]"
      ]
     },
     "metadata": {},
     "output_type": "display_data"
    },
    {
     "name": "stdout",
     "output_type": "stream",
     "text": [
      "Saved vector store Complete ✔️ - To: D:\\Data_sci_internship\\Exploring Generative AI for Predictive Maintenance Applications\\predictive-maintenance-chatbot\\data\\building-knowledge-base\\build_1\\faiss_index\\contextualized_index\n",
      "Saved vector store Complete ✔️ - To: D:\\Data_sci_internship\\Exploring Generative AI for Predictive Maintenance Applications\\predictive-maintenance-chatbot\\data\\building-knowledge-base\\build_1\\faiss_index\\originalcontext_index\n"
     ]
    }
   ],
   "source": [
    "# embeddings = HuggingFaceEmbeddings(model_name=\"sentence-transformers/all-mpnet-base-v2\")\n",
    "model_name = \"sentence-transformers/all-mpnet-base-v2\"\n",
    "create_FaissIndexing(index_data, model_name, buildingBase_data_dir)"
   ]
  },
  {
   "cell_type": "code",
   "execution_count": 6,
   "metadata": {},
   "outputs": [
    {
     "name": "stdout",
     "output_type": "stream",
     "text": [
      "Saved BM25 store Complete ✔️ - To: D:\\Data_sci_internship\\Exploring Generative AI for Predictive Maintenance Applications\\predictive-maintenance-chatbot\\data\\building-knowledge-base\\build_1\\bm25_index\\contextualized_index\n",
      "Saved BM25 store Complete ✔️ - To: D:\\Data_sci_internship\\Exploring Generative AI for Predictive Maintenance Applications\\predictive-maintenance-chatbot\\data\\building-knowledge-base\\build_1\\bm25_index\\originalcontext_index\n"
     ]
    }
   ],
   "source": [
    "create_BM25Indexing(index_data, buildingBase_data_dir)"
   ]
  },
  {
   "cell_type": "markdown",
   "metadata": {},
   "source": [
    "---\n"
   ]
  },
  {
   "cell_type": "code",
   "execution_count": null,
   "metadata": {},
   "outputs": [],
   "source": [
    "original_bm25 = create_BM25Indexing(index_data, buildingBase_data_dir)"
   ]
  },
  {
   "cell_type": "code",
   "execution_count": 11,
   "metadata": {},
   "outputs": [
    {
     "name": "stdout",
     "output_type": "stream",
     "text": [
      "Model loaded successfully!\n"
     ]
    }
   ],
   "source": [
    "import pickle\n",
    "\n",
    "\n",
    "bm25_path = os.path.join(buildingBase_data_dir, \"bm25_index\", \"contextualized_index\", \"BM25Model.pkl\")\n",
    "\n",
    "with open(bm25_path, \"rb\") as f:\n",
    "    loaded_bm25 = pickle.load(f)\n",
    "print(\"Model loaded successfully!\")"
   ]
  },
  {
   "cell_type": "code",
   "execution_count": 12,
   "metadata": {},
   "outputs": [],
   "source": [
    "import re\n",
    "\n",
    "\n",
    "def tokenization(text):\n",
    "    \"\"\"Tokenizes text by lowering case, removing unwanted characters, and splitting by spaces.\"\"\"\n",
    "    text = text.lower()\n",
    "    text = re.sub(r'[^\\w\\s]', '', text)  # Remove unwanted characters\n",
    "    return text.split()\n",
    " \n",
    "query = \"The MOTOR component of the Produce Water Injection Pump C (Tag: P-3410C) is monitored by the NDE_VIB (Motor vibration NDE) condition model, which indicates a consistent 100.0% health score with minimal 0.15% daily, weekly, and monthly changes. This suggests the motor's non-drive end vibration levels are stable and within acceptable limits, contributing to the overall 100.0% performance and condition health of the pump system.\\n\\nThe MOTOR component of Produce Water Injection Pump C (Tag: P-3410C) in the Everflow Utility Plant is monitored by the model NDE_VIB(Motor vibration NDE), which is a CONDITION model of INDIVIDUAL class. This model has a health score of 100.0%, with health changes recorded at 0.15% daily, 0.15% weekly, and 0.15% monthly.\"\n",
    "\n",
    "tokenized_query = tokenization(query)\n",
    "doc_scores =loaded_bm25.get_top_n(tokenized_query, corpus, n=1)\n",
    "doc_top = loaded_bm25.get_scores(tokenized_query)\n",
    "print(doc_scores)\n",
    "print(doc_top)"
   ]
  }
 ],
 "metadata": {
  "kernelspec": {
   "display_name": "PdM_RschAI_env",
   "language": "python",
   "name": "python3"
  },
  "language_info": {
   "codemirror_mode": {
    "name": "ipython",
    "version": 3
   },
   "file_extension": ".py",
   "mimetype": "text/x-python",
   "name": "python",
   "nbconvert_exporter": "python",
   "pygments_lexer": "ipython3",
   "version": "3.10.7"
  }
 },
 "nbformat": 4,
 "nbformat_minor": 2
}
